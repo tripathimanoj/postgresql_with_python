{
 "cells": [
  {
   "cell_type": "code",
   "execution_count": 26,
   "metadata": {},
   "outputs": [
    {
     "name": "stdout",
     "output_type": "stream",
     "text": [
      "<connection object at 0x00000241DA1AFAB0; dsn: 'user=postgres password=xxx dbname=eda host=localhost port=5432', closed: 0>\n"
     ]
    }
   ],
   "source": [
    "import psycopg2\n",
    "conn=psycopg2.connect(user=\"postgres\",\n",
    "                      host=\"localhost\",\n",
    "                      password=\"root11\",\n",
    "                      port=5432,\n",
    "                      database=\"eda\")\n",
    "\n",
    "print(conn) # checking if connection is success or not\n",
    "cur=conn.cursor() # creating a cursor object."
   ]
  },
  {
   "cell_type": "code",
   "execution_count": 27,
   "metadata": {},
   "outputs": [],
   "source": [
    "cur.execute(\"drop table if exists raw_data\")\n",
    "conn.commit()"
   ]
  },
  {
   "cell_type": "code",
   "execution_count": 28,
   "metadata": {},
   "outputs": [],
   "source": [
    "cur.execute(\"\"\"\n",
    "create table raw_data(\n",
    "department_name varchar(50),\n",
    "sales varchar(50),\n",
    "country varchar(50)\n",
    ");\n",
    "\n",
    "\n",
    "insert into raw_data values\n",
    "('@#h*&#R&','nine 7','+91'),\n",
    "('s@a#le&S','nine foUr','+91'),\n",
    "('maNage*&#ment&','one 0 Zero','iNdia'),\n",
    "('Da@@ta_te@m*','17','inDIA'),\n",
    "('M*&^%$l','five five','+99'),\n",
    "('W#eB*DeveL0Opm#en@!t','onE siX','ruSSIA');\n",
    "\n",
    "\"\"\")\n",
    "conn.commit()"
   ]
  },
  {
   "cell_type": "code",
   "execution_count": 29,
   "metadata": {},
   "outputs": [
    {
     "name": "stdout",
     "output_type": "stream",
     "text": [
      "table created successfully\n"
     ]
    }
   ],
   "source": [
    "cur.execute(\"SELECT table_name FROM information_schema.tables WHERE table_schema = 'public';\")\n",
    "if 'raw_data' in cur.fetchone():\n",
    "    print(\"table created successfully\")"
   ]
  },
  {
   "cell_type": "code",
   "execution_count": 30,
   "metadata": {},
   "outputs": [
    {
     "data": {
      "text/plain": [
       "'cur.execute(\"\"\"INSERT INTO raw_data values;\"\"\")\\nconn.commit()\\n# cur.execute(\"\"\"update sort_animal set animal_in_field=animal_name;\"\"\")\\nconn.commit()'"
      ]
     },
     "execution_count": 30,
     "metadata": {},
     "output_type": "execute_result"
    }
   ],
   "source": [
    "'''cur.execute(\"\"\"INSERT INTO raw_data values;\"\"\")\n",
    "conn.commit()\n",
    "# cur.execute(\"\"\"update sort_animal set animal_in_field=animal_name;\"\"\")\n",
    "conn.commit()'''"
   ]
  },
  {
   "cell_type": "code",
   "execution_count": 31,
   "metadata": {},
   "outputs": [
    {
     "name": "stdout",
     "output_type": "stream",
     "text": [
      "('@#h*&#R&', 'nine 7', '+91')\n",
      "('s@a#le&S', 'nine foUr', '+91')\n",
      "('maNage*&#ment&', 'one 0 Zero', 'iNdia')\n",
      "('Da@@ta_te@m*', '17', 'inDIA')\n",
      "('M*&^%$l', 'five five', '+99')\n",
      "('W#eB*DeveL0Opm#en@!t', 'onE siX', 'ruSSIA')\n"
     ]
    }
   ],
   "source": [
    "cur.execute(\"select * from raw_data\")\n",
    "for rows in cur.fetchall():\n",
    "    print(rows)"
   ]
  },
  {
   "cell_type": "code",
   "execution_count": 32,
   "metadata": {},
   "outputs": [],
   "source": [
    "cur.execute(\"select department_name from raw_data;\")\n",
    "data=cur.fetchall()"
   ]
  },
  {
   "cell_type": "code",
   "execution_count": 61,
   "metadata": {},
   "outputs": [
    {
     "data": {
      "text/plain": [
       "'dkfjkddk'"
      ]
     },
     "execution_count": 61,
     "metadata": {},
     "output_type": "execute_result"
    }
   ],
   "source": [
    "\"dkfjkddK\".lower()"
   ]
  },
  {
   "cell_type": "code",
   "execution_count": null,
   "metadata": {},
   "outputs": [],
   "source": []
  },
  {
   "cell_type": "code",
   "execution_count": 57,
   "metadata": {},
   "outputs": [],
   "source": [
    "lst=['@#h*&#R&','s@a#le&S']\n",
    "lst_new=[]"
   ]
  },
  {
   "cell_type": "code",
   "execution_count": 72,
   "metadata": {},
   "outputs": [],
   "source": [
    "lst=['@#h*&#R&','s@a#le&S']\n",
    "lst_new=[]\n",
    "\n",
    "for data in lst:\n",
    "\n",
    "    flag=''\n",
    "    for ele in data:\n",
    "        \n",
    "\n",
    "        if ele.isalpha():\n",
    "            flag=flag+ele\n",
    "    lst_new.append(flag)"
   ]
  },
  {
   "cell_type": "code",
   "execution_count": 73,
   "metadata": {},
   "outputs": [
    {
     "data": {
      "text/plain": [
       "['hr', 'sales']"
      ]
     },
     "execution_count": 73,
     "metadata": {},
     "output_type": "execute_result"
    }
   ],
   "source": [
    "lst_new"
   ]
  },
  {
   "cell_type": "code",
   "execution_count": null,
   "metadata": {},
   "outputs": [],
   "source": [
    "word_to_number = {'zero': 0, 'one': 1, 'two': 2, 'three': 3, 'four': 4, 'five': 5, 'six': 6, 'seven': 7, 'eight': 8, 'nine': 9}\n",
    "\n",
    "input_string = 'nine'\n",
    "output_number = word_to_number.get(input_string)\n",
    "\n",
    "if output_number is not None:\n",
    "    print(output_number)\n",
    "else:\n",
    "    print(\"Invalid input string\")\n"
   ]
  },
  {
   "cell_type": "code",
   "execution_count": 81,
   "metadata": {},
   "outputs": [
    {
     "data": {
      "text/plain": [
       "True"
      ]
     },
     "execution_count": 81,
     "metadata": {},
     "output_type": "execute_result"
    }
   ],
   "source": [
    "'9'.isnumeric()"
   ]
  },
  {
   "cell_type": "code",
   "execution_count": 1,
   "metadata": {},
   "outputs": [
    {
     "name": "stdout",
     "output_type": "stream",
     "text": [
      "100\n"
     ]
    }
   ],
   "source": [
    "word_to_number = {'zero': 0, 'one': 1, 'two': 2, 'three': 3, 'four': 4, 'five': 5, 'six': 6, 'seven': 7, 'eight': 8, 'nine': 9}\n",
    "\n",
    "a = 'one 0 zero'\n",
    "result = ''\n",
    "\n",
    "for word in a.split():\n",
    "    if word.isnumeric():\n",
    "        result += word\n",
    "    elif word in word_to_number:\n",
    "        result+= str(word_to_number.get(word))\n",
    "        # print(result,type(result))\n",
    "\n",
    "print(result)"
   ]
  },
  {
   "cell_type": "code",
   "execution_count": null,
   "metadata": {},
   "outputs": [],
   "source": []
  },
  {
   "cell_type": "code",
   "execution_count": null,
   "metadata": {},
   "outputs": [],
   "source": []
  },
  {
   "cell_type": "code",
   "execution_count": null,
   "metadata": {},
   "outputs": [],
   "source": []
  },
  {
   "cell_type": "code",
   "execution_count": null,
   "metadata": {},
   "outputs": [],
   "source": []
  }
 ],
 "metadata": {
  "kernelspec": {
   "display_name": "base",
   "language": "python",
   "name": "python3"
  },
  "language_info": {
   "codemirror_mode": {
    "name": "ipython",
    "version": 3
   },
   "file_extension": ".py",
   "mimetype": "text/x-python",
   "name": "python",
   "nbconvert_exporter": "python",
   "pygments_lexer": "ipython3",
   "version": "3.11.5"
  }
 },
 "nbformat": 4,
 "nbformat_minor": 2
}
